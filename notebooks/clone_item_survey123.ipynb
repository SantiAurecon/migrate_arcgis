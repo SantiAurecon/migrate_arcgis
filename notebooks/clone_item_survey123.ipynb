{
 "cells": [
  {
   "cell_type": "code",
   "execution_count": 11,
   "id": "initial_id",
   "metadata": {
    "ExecuteTime": {
     "end_time": "2024-02-23T02:00:18.943524600Z",
     "start_time": "2024-02-23T02:00:08.863117700Z"
    }
   },
   "outputs": [],
   "source": [
    "import json\n",
    "import requests\n",
    "import logging, os, re, datetime\n",
    "from IPython.display import display\n",
    "from arcgis.gis import GIS\n",
    "from arcgis.mapping import WebMap\n",
    "from arcgis.mapping import WebScene\n",
    "from arcgis.features import FeatureLayerCollection\n",
    "from arcgis.features import FeatureLayer\n",
    "from arcgis.features import FeatureSet\n",
    "\n",
    "import time"
   ]
  },
  {
   "cell_type": "code",
   "execution_count": 12,
   "id": "fd52e4cb3451d962",
   "metadata": {
    "ExecuteTime": {
     "end_time": "2024-02-23T02:00:18.957860600Z",
     "start_time": "2024-02-23T02:00:18.943524600Z"
    }
   },
   "outputs": [
    {
     "name": "stderr",
     "output_type": "stream",
     "text": [
      "INFO:__main__:Script Starting at 2024-02-23 13:16:47.968413\n"
     ]
    }
   ],
   "source": [
    "SaveLogsTo = '../Logs'\n",
    "logging.basicConfig(level=logging.INFO)\n",
    "logging.getLogger('arcgis.gis._impl').setLevel(logging.WARNING)\n",
    "logger = logging.getLogger(__name__)\n",
    "\n",
    "logFileName = datetime.datetime.now().strftime('%Y-%m-%d %H-%M-%S')\n",
    "fileHandler = logging.handlers.RotatingFileHandler('{}/{}.log'.format(SaveLogsTo, logFileName), maxBytes=100000, backupCount=5)\n",
    "formatter = logging.Formatter('%(asctime)s %(levelname)s %(relativeCreated)d \\n%(filename)s %(module)s %(funcName)s %(lineno)d \\n%(message)s\\n')\n",
    "fileHandler.setFormatter(formatter)\n",
    "logger.addHandler(fileHandler)\n",
    "logger.info('Script Starting at {}'.format(str(datetime.datetime.now())))"
   ]
  },
  {
   "cell_type": "markdown",
   "id": "2137f5429337c7d9",
   "metadata": {},
   "source": [
    "# MIGRATION"
   ]
  },
  {
   "cell_type": "markdown",
   "id": "b45af30b65c69871",
   "metadata": {},
   "source": [
    "## Initialise Migration"
   ]
  },
  {
   "cell_type": "code",
   "execution_count": 13,
   "id": "ea202cad6e1bf75",
   "metadata": {
    "ExecuteTime": {
     "end_time": "2024-02-23T02:00:18.993732800Z",
     "start_time": "2024-02-23T02:00:18.958982100Z"
    }
   },
   "outputs": [],
   "source": [
    "# imports\n",
    "from classes.contentmigration import GisMigration, MigrateUser\n",
    "import scripts.portalmanager as pm"
   ]
  },
  {
   "cell_type": "code",
   "execution_count": 14,
   "id": "1dc35634b9a2a07",
   "metadata": {
    "ExecuteTime": {
     "end_time": "2024-02-23T02:00:18.994848300Z",
     "start_time": "2024-02-23T02:00:18.975493600Z"
    }
   },
   "outputs": [],
   "source": [
    "# Define parameters for this Migration\n",
    "portals_csv = '../Conf/portal_connect_deets.csv'\n",
    "MIGRATE_DATA_FOLDER = '../migration_data'\n",
    "usr_args_migration_name = \"ISP_to_DIGITAL_DEV\"  # \"ISP_TO_UAT\"\n",
    "usr_args_from_gis_alias_name = 'ISP_OAUTH2'\n",
    "usr_args_to_gis_alias_name = 'DIGITAL_DEV'  # 'ISP'\n",
    "usr_args_from_usernames = ['Santiago.patino@aurecongroup.com', 'Katleya.DelaCruz@aurecongroup.com']  # '*'\n",
    "usr_args_select_itemids = None\n",
    "usr_args_select_types = None #['form']\n",
    "\n",
    "#  usr_args_usernames = '*'\n",
    "\n",
    "migration_username = 'Santiago.patino@aurecongroup.com'"
   ]
  },
  {
   "cell_type": "code",
   "execution_count": 15,
   "id": "9eab5ba33e8f6609",
   "metadata": {
    "ExecuteTime": {
     "end_time": "2024-02-23T02:00:42.059988700Z",
     "start_time": "2024-02-23T02:00:24.300522900Z"
    }
   },
   "outputs": [
    {
     "name": "stdout",
     "output_type": "stream",
     "text": [
      "Please sign in to your GIS and paste the code that is obtained below.\n",
      "If a web browser does not automatically open, please navigate to the URL below yourself instead.\n",
      "Opening web browser to navigate to: https://ispgeospatial.com/portal/sharing/rest/oauth2/authorize?response_type=code&client_id=K7qStPWY3MPp0b8z&redirect_uri=urn%3Aietf%3Awg%3Aoauth%3A2.0%3Aoob&state=iytXKWMJqveurXIQbfXsIsKs5n5cAV&allow_verification=false\n",
      "Enter code obtained on signing in using SAML: ········\n"
     ]
    },
    {
     "name": "stderr",
     "output_type": "stream",
     "text": [
      "C:\\Users\\santiago.patino\\AppData\\Local\\ESRI\\conda\\envs\\arcgispro-py3-clone\\lib\\site-packages\\urllib3\\connectionpool.py:1056: InsecureRequestWarning: Unverified HTTPS request is being made to host 'ispgeospatial.com'. Adding certificate verification is strongly advised. See: https://urllib3.readthedocs.io/en/1.26.x/advanced-usage.html#ssl-warnings\n",
      "  warnings.warn(\n"
     ]
    },
    {
     "name": "stdout",
     "output_type": "stream",
     "text": [
      "Successfully logged in GIS https://ispgeospatial.com/portal as: Santiago.Patino@aurecongroup.com\n",
      "Successfully logged in GIS https://ppgeospatial-dev.aurecongroup.digital/arcgis/ as: Santiago.Patino@aurecongroup.com\n"
     ]
    }
   ],
   "source": [
    "today = datetime.datetime.now().strftime('%d%m%Y')\n",
    "data_folder = '../migration_data'\n",
    "fromgis = pm.portal_connect(portals_csv, usr_args_from_gis_alias_name,\n",
    "                            username=None,\n",
    "                            auth_type='OAuth 2.0')\n",
    "if usr_args_to_gis_alias_name:\n",
    "    togis = pm.portal_connect(portals_csv, usr_args_to_gis_alias_name,\n",
    "                              username=None,\n",
    "                              auth_type='Pro')\n",
    "                             "
   ]
  },
  {
   "cell_type": "code",
   "execution_count": 6,
   "id": "7ab87c66714fa8fc",
   "metadata": {
    "ExecuteTime": {
     "end_time": "2024-02-23T02:00:50.484277600Z",
     "start_time": "2024-02-23T02:00:49.335903900Z"
    }
   },
   "outputs": [
    {
     "name": "stdout",
     "output_type": "stream",
     "text": [
      "Connected to GIS @ https://ispgeospatial.com/portal version:10.3\n"
     ]
    },
    {
     "name": "stderr",
     "output_type": "stream",
     "text": [
      "INFO:__main__:Migration ISP_to_DIGITAL_DEV initialised at 2024-02-23 12:00:50.469975\n"
     ]
    }
   ],
   "source": [
    "gis_migration = GisMigration(today,\n",
    "                             usr_args_migration_name,\n",
    "                             fromgis,\n",
    "                             togis,\n",
    "                             MIGRATE_DATA_FOLDER,\n",
    "                             migrate_usernames=usr_args_from_usernames,\n",
    "                             migrate_item_ids=usr_args_select_itemids,\n",
    "                             migrate_item_types=usr_args_select_types\n",
    "                             )\n",
    "logger.info(f'Migration {gis_migration.name} initialised at {str(datetime.datetime.now())}')"
   ]
  },
  {
   "cell_type": "code",
   "execution_count": 10,
   "id": "7652f9e214effb3a",
   "metadata": {
    "ExecuteTime": {
     "end_time": "2024-02-23T02:12:15.262403100Z",
     "start_time": "2024-02-23T02:11:40.306544900Z"
    }
   },
   "outputs": [
    {
     "name": "stdout",
     "output_type": "stream",
     "text": [
      "Connected to GIS @ https://ispgeospatial.com/portal version:10.3\n",
      "Migrating content for users: <User username:Katleya.DelaCruz@aurecongroup.com>\n"
     ]
    },
    {
     "name": "stderr",
     "output_type": "stream",
     "text": [
      "INFO:__main__:MigrateUser Katleya.DelaCruz@aurecongroup.com initialised at 2024-02-23 12:11:46.271344\n"
     ]
    },
    {
     "name": "stdout",
     "output_type": "stream",
     "text": [
      "  WARNING: item 14b1b12382684ce4abd6e0513ee51868 cannot be found. \n",
      "  WARNING: item 086b3323c5f340ed9d68cc112760d2c2 cannot be found. \n",
      "(\"unhashable type: 'User'\",)\n"
     ]
    },
    {
     "ename": "AttributeError",
     "evalue": "'NoneType' object has no attribute 'shape'",
     "output_type": "error",
     "traceback": [
      "\u001b[1;31m---------------------------------------------------------------------------\u001b[0m",
      "\u001b[1;31mAttributeError\u001b[0m                            Traceback (most recent call last)",
      "\u001b[1;32m~\\AppData\\Local\\Temp\\1\\ipykernel_24768\\2111986591.py\u001b[0m in \u001b[0;36m<cell line: 13>\u001b[1;34m()\u001b[0m\n\u001b[0;32m     11\u001b[0m \u001b[1;33m\u001b[0m\u001b[0m\n\u001b[0;32m     12\u001b[0m \u001b[0muser_content_df\u001b[0m \u001b[1;33m=\u001b[0m \u001b[0mmigrate_user\u001b[0m\u001b[1;33m.\u001b[0m\u001b[0mmake_migrate_items_df\u001b[0m\u001b[1;33m(\u001b[0m\u001b[1;33m)\u001b[0m\u001b[1;33m\u001b[0m\u001b[1;33m\u001b[0m\u001b[0m\n\u001b[1;32m---> 13\u001b[1;33m \u001b[0mprint\u001b[0m\u001b[1;33m(\u001b[0m\u001b[0muser_content_df\u001b[0m\u001b[1;33m.\u001b[0m\u001b[0mshape\u001b[0m\u001b[1;33m)\u001b[0m\u001b[1;33m\u001b[0m\u001b[1;33m\u001b[0m\u001b[0m\n\u001b[0m\u001b[0;32m     14\u001b[0m \u001b[1;31m# user_content_df = user_content_df.set_index(['item_id', 'dependentupon_id'])\u001b[0m\u001b[1;33m\u001b[0m\u001b[1;33m\u001b[0m\u001b[0m\n\u001b[0;32m     15\u001b[0m \u001b[1;31m# user_content_df\u001b[0m\u001b[1;33m\u001b[0m\u001b[1;33m\u001b[0m\u001b[0m\n",
      "\u001b[1;31mAttributeError\u001b[0m: 'NoneType' object has no attribute 'shape'"
     ]
    }
   ],
   "source": [
    "username = ['Katleya.DelaCruz@aurecongroup.com']\n",
    "gis_migration.migrate_users = gis_migration.get_migrate_users(usernames=username)\n",
    "user = gis_migration.migrate_users[0]\n",
    "print(f\"Migrating content for users: {user}\")\n",
    "\n",
    "\n",
    "migrate_user = MigrateUser(gis_migration, user)\n",
    "logger.info(f'MigrateUser {migrate_user} initialised at {str(datetime.datetime.now())}')\n",
    "migrate_user.migrate_items = migrate_user.get_migrate_user_items_list(itemids_list=gis_migration.item_ids,\n",
    "                                                      item_types=gis_migration.item_types)\n",
    "\n",
    "user_content_df = migrate_user.make_migrate_items_df()\n",
    "print(user_content_df.shape)\n",
    "# user_content_df = user_content_df.set_index(['item_id', 'dependentupon_id'])\n",
    "# user_content_df\n",
    "# show_df = user_content_df['item_id','dependentupon_id']\n",
    "\n",
    "\n",
    "# Display the DataFrame\n",
    "# show_df\n",
    "# # Get the columns of the DataFrame\n",
    "# columns = user_content_df.columns\n",
    "# \n",
    "# # Display the columns\n",
    "# print(columns)"
   ]
  },
  {
   "cell_type": "code",
   "execution_count": null,
   "id": "219aee8be61ac8b5",
   "metadata": {},
   "outputs": [],
   "source": [
    "# FOR ALL - uncomment to go through all users in a for loop\n",
    "\n",
    "# gis_migration.migrate_users = gis_migration.get_migrate_users(usernames=usr_args_from_usernames)\n",
    "# print(f\"Migrating content for users: {gis_migration.migrate_users}\")\n",
    "# for user in gis_migration.migrate_users:\n",
    "#     print(f\"user: {user}\")\n",
    "#     migrate_user = MigrateUser(gis_migration, user)\n",
    "#     logger.info(f'MigrateUser {migrate_user} initialised at {str(datetime.datetime.now())}')\n",
    "#     migrate_user.migrate_items = migrate_user.get_migrate_user_items_list(itemids_list=gis_migration.item_ids,\n",
    "#                                                           item_types=gis_migration.item_types)\n",
    "#     print(f\"User {user} has {len(migrate_user.migrate_items)} items to migrate\")\n",
    "#     user_content_df = migrate_user.make_migrate_items_df()\n",
    "#     import scripts.gp_functions as gp\n",
    "#     output_csv = gp.df_export_to_csv(migrate_user.user.username, user_content_df, gis_migration.data_folder, today)\n"
   ]
  },
  {
   "cell_type": "markdown",
   "id": "cbde1acfc311a84a",
   "metadata": {},
   "source": [
    "## Process Survey123 items for Users in this Migration"
   ]
  },
  {
   "cell_type": "code",
   "execution_count": 7,
   "id": "ed0f2214f3be5f52",
   "metadata": {
    "ExecuteTime": {
     "end_time": "2024-02-23T02:05:31.325083100Z",
     "start_time": "2024-02-23T02:05:30.917777400Z"
    }
   },
   "outputs": [
    {
     "ename": "NameError",
     "evalue": "name 'migrate_user' is not defined",
     "output_type": "error",
     "traceback": [
      "\u001b[1;31m---------------------------------------------------------------------------\u001b[0m",
      "\u001b[1;31mNameError\u001b[0m                                 Traceback (most recent call last)",
      "\u001b[1;32m~\\AppData\\Local\\Temp\\1\\ipykernel_24768\\212434486.py\u001b[0m in \u001b[0;36m<cell line: 8>\u001b[1;34m()\u001b[0m\n\u001b[0;32m      6\u001b[0m \u001b[1;31m# get the items of type:form\u001b[0m\u001b[1;33m\u001b[0m\u001b[1;33m\u001b[0m\u001b[0m\n\u001b[0;32m      7\u001b[0m \u001b[0msurvey_manager\u001b[0m \u001b[1;33m=\u001b[0m \u001b[0marcgis\u001b[0m\u001b[1;33m.\u001b[0m\u001b[0mapps\u001b[0m\u001b[1;33m.\u001b[0m\u001b[0msurvey123\u001b[0m\u001b[1;33m.\u001b[0m\u001b[0mSurveyManager\u001b[0m\u001b[1;33m(\u001b[0m\u001b[0mgis_migration\u001b[0m\u001b[1;33m.\u001b[0m\u001b[0mmigrate_from\u001b[0m\u001b[1;33m)\u001b[0m\u001b[1;33m\u001b[0m\u001b[1;33m\u001b[0m\u001b[0m\n\u001b[1;32m----> 8\u001b[1;33m \u001b[0mmigrate_user\u001b[0m\u001b[1;33m.\u001b[0m\u001b[0mmigrate_items\u001b[0m\u001b[1;33m\u001b[0m\u001b[1;33m\u001b[0m\u001b[0m\n\u001b[0m",
      "\u001b[1;31mNameError\u001b[0m: name 'migrate_user' is not defined"
     ]
    }
   ],
   "source": [
    "## Process Survey123 items for a user in this Migration\n",
    "import arcgis\n",
    "from arcgis.gis import GIS\n",
    "import os\n",
    "\n",
    "# get the items of type:form\n",
    "survey_manager = arcgis.apps.survey123.SurveyManager(gis_migration.migrate_from)\n",
    "migrate_user.migrate_items"
   ]
  },
  {
   "cell_type": "code",
   "execution_count": 0,
   "id": "be0f799550abfa63",
   "metadata": {},
   "outputs": [],
   "source": [
    "\n",
    "\n",
    "group = gis_migration.migrate_from.groups.get('0dd43178863545fbb5526278e1bdfc4c')\n",
    "sourceForms = group.search('type:form')['results']\n",
    "sourceForms\n",
    "    "
   ]
  },
  {
   "cell_type": "code",
   "execution_count": 0,
   "id": "e17e53cb3035247f",
   "metadata": {},
   "outputs": [],
   "source": [
    "## recall code ;))from arcgis.gis import GIS\n",
    "\n",
    "# # Connect to the source and destination portals\n",
    "# source_portal_url = \"https://source_portal_url/arcgis\"\n",
    "# destination_portal_url = \"https://destination_portal_url/arcgis\"\n",
    "# source_portal = GIS(source_portal_url, \"username\", \"password\")\n",
    "# destination_portal = GIS(destination_portal_url, \"username\", \"password\")\n",
    "# \n",
    "# # Define the form item ID\n",
    "# form_item_id = \"form_item_id\"\n",
    "# \n",
    "# def find_related_items(form_item_id, portal):\n",
    "#     related_items = []\n",
    "# \n",
    "#     # Get the item related to the form\n",
    "#     form_item = portal.content.get(form_item_id)\n",
    "# \n",
    "#     # Get items related to the form\n",
    "#     related_items.extend(form_item.related_items(\"Dependent\"))\n",
    "# \n",
    "#     # Get items that the form is dependent on\n",
    "#     related_items.extend(form_item.related_items(\"DependsOn\"))\n",
    "# \n",
    "#     return related_items\n",
    "# \n",
    "# def clone_and_migrate_items(form_item_id, source_portal, destination_portal):\n",
    "#     # Find all related items\n",
    "#     related_items = find_related_items(form_item_id, source_portal)\n",
    "#     related_item_ids = [item.itemid for item in related_items]\n",
    "# \n",
    "#     # Clone and migrate each related item\n",
    "#     for item_id in related_item_ids:\n",
    "#         source_item = source_portal.content.get(item_id)\n",
    "#         destination_portal.content.clone_items([source_item], folder=\"target_folder\", copy_data=False)\n",
    "# \n",
    "# # Clone and migrate all related items\n",
    "# clone_and_migrate_items(form_item_id, source_portal, destination_portal)\n",
    "\n"
   ]
  },
  {
   "cell_type": "code",
   "execution_count": null,
   "id": "5c98093afdce2d66",
   "metadata": {},
   "outputs": [],
   "source": [
    "\n",
    "\n",
    "    \n",
    "    "
   ]
  },
  {
   "cell_type": "code",
   "execution_count": null,
   "id": "19d44c9d7b3e5601",
   "metadata": {},
   "outputs": [],
   "source": []
  },
  {
   "cell_type": "code",
   "execution_count": null,
   "id": "d4d0482574c0ce56",
   "metadata": {},
   "outputs": [],
   "source": [
    "# Get surveys by group ID and then download each format supported\n",
    "# survey_manager = arcgis.apps.survey123.SurveyManager(source_gis)\n",
    "# group = source.groups.get('0dd43178863545fbb5526278e1bdfc4c')\n",
    "# sourceForms = group.search('type:form')['results']\n",
    "# sourceForms\n",
    "\n"
   ]
  },
  {
   "cell_type": "code",
   "execution_count": null,
   "id": "13e0064eef40dc4f",
   "metadata": {},
   "outputs": [],
   "source": []
  }
 ],
 "metadata": {
  "kernelspec": {
   "display_name": "Python 3 (ipykernel)",
   "language": "python",
   "name": "python3"
  },
  "language_info": {
   "codemirror_mode": {
    "name": "ipython",
    "version": 3
   },
   "file_extension": ".py",
   "mimetype": "text/x-python",
   "name": "python",
   "nbconvert_exporter": "python",
   "pygments_lexer": "ipython3",
   "version": "3.9.18"
  }
 },
 "nbformat": 4,
 "nbformat_minor": 5
}
