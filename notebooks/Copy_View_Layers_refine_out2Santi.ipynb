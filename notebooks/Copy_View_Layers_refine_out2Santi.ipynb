{
 "cells": [
  {
   "cell_type": "code",
   "execution_count": null,
   "metadata": {},
   "outputs": [],
   "source": [
    "import json, uuid, re, tempfile, os, copy, zipfile, shutil\n",
    "from functools import reduce\n",
    "from urllib.parse import urlparse\n",
    "from arcgis import gis\n",
    "from arcgis.features import FeatureLayerCollection\n",
    "from arcgis.features import FeatureLayer\n",
    "from arcgis.features import FeatureSet\n",
    "from arcgis.gis import GIS\n",
    "import requests\n",
    "\n",
    "import time"
   ]
  },
  {
   "cell_type": "code",
   "execution_count": null,
   "metadata": {},
   "outputs": [],
   "source": [
    "source_gis = GIS()\n",
    "print(\"Successfully logged in target as: \" + source_gis.properties.user.username)\n",
    "\n",
    "target_gis = GIS()\n",
    "print(\"Successfully logged in source as: \" + target_gis.properties.user.username)"
   ]
  },
  {
   "cell_type": "code",
   "execution_count": null,
   "metadata": {},
   "outputs": [],
   "source": [
    "def create_empty_service(source_item,target_gis,is_view):\n",
    "    create_parameters = {\n",
    "        \"name\": source_item.name,\n",
    "        \"description\": source_item.description,\n",
    "        \"capabilities\": \"Create,Query,Editing,Update,Delete,Sync\",#need to turn off the editing, update, Delete as final publication function\n",
    "        \"spatialReference\": {\"wkid\": 4326},\n",
    "        \"zDefault\": 0,\n",
    "        \"properties\": {\n",
    "            \"path\": \"\",\n",
    "            \"description\": \"\",\n",
    "            \"copyright\": \"\"\n",
    "        }\n",
    "    }\n",
    "    print(create_parameters)\n",
    "    service_item = target_gis.content.create_service(name = source_item.name, \n",
    "                                                     service_type = 'featureService', \n",
    "                                                     create_params = create_parameters, \n",
    "                                                     tags = source_item.tags, \n",
    "                                                     snippet = source_item.snippet, \n",
    "                                                     item_properties = {'title':source_item.title,'typeKeywords':\"source-\"+source_item.id},\n",
    "                                                     item_id = source_item.id,\n",
    "                                                     is_view = is_view\n",
    "                                                     )\n",
    "    return service_item\n"
   ]
  },
  {
   "cell_type": "code",
   "execution_count": null,
   "metadata": {},
   "outputs": [],
   "source": [
    "source_item = source_gis.content.get(\"d0d3163b23bc4128add151557eb22b77\")\n",
    "source_item_flc = FeatureLayerCollection.fromitem(source_item)\n",
    "print(source_item.name)\n",
    "name_available = target_gis.content.is_service_name_available(service_name = source_item.name, service_type = 'featureService')\n",
    "print(name_available)\n",
    "is_view = source_item_flc.properties['isView']\n",
    "print(is_view)"
   ]
  },
  {
   "cell_type": "code",
   "execution_count": null,
   "metadata": {},
   "outputs": [],
   "source": [
    "if name_available == True:\n",
    "    service_item = create_empty_service(source_item,target_gis,is_view)\n",
    "else:\n",
    "    print('this service is existing')"
   ]
  },
  {
   "cell_type": "code",
   "execution_count": null,
   "metadata": {
    "scrolled": true
   },
   "outputs": [],
   "source": [
    "target_item = target_gis.content.get(\"d0d3163b23bc4128add151557eb22b77\")\n",
    "test_url = \"https://ppgeospatial-dev.aurecongroup.digital/arcgis/rest/services/Hosted/service_f9397/FeatureServer/0\"\n",
    "#token = target_gis._con.token\n",
    "#test_url = test_url+\"?token=\"+token\n",
    "trg_flc = FeatureLayerCollection.fromitem(target_item)\n",
    "\n",
    "for layer_item in source_item.layers:\n",
    "\n",
    "    src_url = layer_item.url\n",
    "    src_fl_id = src_url.split(\"/\")[-1]\n",
    "    trg_fl_id = \"/\" + str(src_fl_id)\n",
    "    print(src_url)\n",
    "    json_str = json.loads(f'{layer_item.properties}')\n",
    "    #print(json_str)\n",
    "\n",
    "    del json_str['serviceItemId']\n",
    "    if layer_item.properties['isView'] is True:\n",
    "        update_str = {\"url\":test_url,\"adminLayerInfo\":{\"viewLayerDefinition\":{\"sourceServiceName\":\"service_f9397\",\"sourceLayerId\":int(src_fl_id),\"sourceLayerFields\":\"*\"}}}\n",
    "        print(update_str)\n",
    "        json_str.update(update_str)\n",
    "    #del json_str['sourceSpatialReference']\n",
    "    temp_json = {\"layers\":[]}\n",
    "    temp_json[\"layers\"].append(json_str)\n",
    "\n",
    "    #print(temp_json)\n",
    "    trg_flc.manager.add_to_definition(temp_json)\n",
    "    trg_flc.manager.refresh()\n",
    "\n",
    "    if layer_item.properties['isView'] is True:\n",
    "\n",
    "        trg_flc_fields = [field['name'] for field in trg_flc.layers[int(src_fl_id)].properties.fields]\n",
    "        source_view_fields = [field['name'] for field in layer_item.properties.fields]\n",
    "        print(trg_flc_fields)\n",
    "        print(source_view_fields)\n",
    "        update_str = {\"fields\":[]}\n",
    "        for fields in trg_flc_fields:\n",
    "            if fields in source_view_fields:\n",
    "                json_str = {\"name\":fields,\"visible\":True}\n",
    "                update_str[\"fields\"].append(json_str)\n",
    "            else:\n",
    "                json_str = {\"name\":fields,\"visible\":False}\n",
    "                update_str[\"fields\"].append(json_str)\n",
    "\n",
    "        #print(update_str)\n",
    "        trg_flc.layers[int(src_fl_id)].manager.update_definition(update_str) \n",
    "print('all done')"
   ]
  },
  {
   "cell_type": "code",
   "execution_count": null,
   "metadata": {},
   "outputs": [],
   "source": []
  }
 ],
 "metadata": {
  "kernelspec": {
   "display_name": "ArcGISPro",
   "language": "Python",
   "name": "python3"
  },
  "language_info": {
   "file_extension": ".py",
   "name": "python",
   "version": "3"
  }
 },
 "nbformat": 4,
 "nbformat_minor": 2
}
