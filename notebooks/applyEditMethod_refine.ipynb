{
 "cells": [
  {
   "cell_type": "code",
   "execution_count": 1,
   "metadata": {},
   "outputs": [],
   "source": [
    "import json, uuid, re, tempfile, os, copy, zipfile, shutil\n",
    "from functools import reduce\n",
    "from urllib.parse import urlparse\n",
    "from arcgis import gis\n",
    "from arcgis.features import FeatureLayerCollection\n",
    "from arcgis.features import FeatureLayer\n",
    "from arcgis.features import FeatureSet\n",
    "from arcgis.gis import GIS\n",
    "import requests\n",
    "import json\n",
    "import time"
   ]
  },
  {
   "cell_type": "code",
   "execution_count": 2,
   "metadata": {},
   "outputs": [
    {
     "name": "stdout",
     "output_type": "stream",
     "text": [
      "Successfully logged in target as: siteadmin\n",
      "Successfully logged in source as: Ross.Ma@aurecongroup.com\n"
     ]
    }
   ],
   "source": [
    "src_gis_portal_url = \"https://ispgeospatial.com/portal\"\n",
    "src_gis_service_user = \"\"\n",
    "src_gis_service_user_pwd = \"\"\n",
    "source_gis = GIS(src_gis_portal_url, src_gis_service_user, src_gis_service_user_pwd, verify_cert=True, use_gen_token = True)\n",
    "\n",
    "print(\"Successfully logged in target as: \" + source_gis.properties.user.username)\n",
    "\n",
    "target_gis = GIS('pro')\n",
    "print(\"Successfully logged in source as: \" + target_gis.properties.user.username)\n",
    "\n"
   ]
  },
  {
   "cell_type": "code",
   "execution_count": 317,
   "metadata": {},
   "outputs": [],
   "source": [
    "def get_photo_encode(url,token):\n",
    "    payload = {'token':token, 'f': 'json'}\n",
    "    response = requests.post(url, data = payload)\n",
    "    if response.status_code == 200:\n",
    "        return(response.json())\n",
    "    else:\n",
    "        print(\"Request failed with status code:\", response.status_code)"
   ]
  },
  {
   "cell_type": "code",
   "execution_count": 3,
   "metadata": {},
   "outputs": [],
   "source": [
    "source_item = source_gis.content.get(\"ade65c8326d24b63b65df84330b8e63d\")"
   ]
  },
  {
   "cell_type": "code",
   "execution_count": 319,
   "metadata": {},
   "outputs": [
    {
     "name": "stdout",
     "output_type": "stream",
     "text": [
      "True\n"
     ]
    }
   ],
   "source": [
    "name_available = target_gis.content.is_service_name_available(service_name = \"service_ad7a1ce394334565bf82e26ed68ba10b\", service_type = 'featureService')\n",
    "print(name_available)"
   ]
  },
  {
   "cell_type": "code",
   "execution_count": 320,
   "metadata": {},
   "outputs": [],
   "source": [
    "if name_available == True:\n",
    "    create_parameters = {\n",
    "        \"name\": \"service_ad7a1ce394334565bf82e26ed68ba10b\",\n",
    "        \"description\": \"SW_PR_PropertyInspection_Form\",\n",
    "        \"capabilities\": \"Create,Query,Editing,Update,Delete,Sync\",#need to turn off the editing, update, Delete as final publication function\n",
    "        \"spatialReference\": {\"wkid\": \"4326\"},\n",
    "        \"zDefault\": 0,\n",
    "        \"properties\": {\n",
    "            \"path\": \"\",\n",
    "            \"description\": \"\",\n",
    "            \"copyright\": \"\"\n",
    "        }\n",
    "    }\n",
    "    service_item = target_gis.content.create_service(name = \"service_ad7a1ce394334565bf82e26ed68ba10b\", \n",
    "                                                     service_type = 'featureService', \n",
    "                                                     create_params = create_parameters, \n",
    "                                                     tags = ['XForm', 'XForms'], \n",
    "                                                     snippet = \"\", \n",
    "                                                     item_properties = {'title':'SW_PR_PropertyInspection_Form','typeKeywords':\"source-ade65c8326d24b63b65df84330b8e63d\"},\n",
    "                                                     item_id='ade65c8326d24b63b65df84330b8e63d'\n",
    "                                                    )\n",
    "else:\n",
    "    print('this service is existing')"
   ]
  },
  {
   "cell_type": "code",
   "execution_count": 321,
   "metadata": {},
   "outputs": [
    {
     "name": "stdout",
     "output_type": "stream",
     "text": [
      "https://ispgeospatial.com/server/rest/services/Hosted/service_ad7a1ce394334565bf82e26ed68ba10b/FeatureServer/0\n",
      "adding definition\n",
      "done definition\n",
      "Starting at 2024-03-12 19:12:08.704103\n",
      "attachment number in this batch: 115\n",
      "finished at 2024-03-12 19:13:20.422859\n",
      "Duration: 0:01:11.718756\n"
     ]
    }
   ],
   "source": [
    "#src_flc = FeatureLayerCollection.fromitem(source_item)\n",
    "empty_service_item = target_gis.content.get(\"ade65c8326d24b63b65df84330b8e63d\")\n",
    "trg_flc = FeatureLayerCollection.fromitem(empty_service_item)\n",
    "\n",
    "for layer_item in source_item.layers:\n",
    "    src_url = layer_item.url\n",
    "    src_fl_id = src_url.split(\"/\")[-1]\n",
    "    trg_fl_id = \"/\" + str(src_fl_id)\n",
    "    print(src_url)\n",
    "    json_str = json.loads(f'{layer_item.properties}')\n",
    "    del json_str['serviceItemId']\n",
    "    #del json_str['sourceSpatialReference']\n",
    "    temp_json = {'layers':[]}\n",
    "    temp_json[\"layers\"].append(json_str)\n",
    "    print(\"adding definition\")\n",
    "    trg_flc.manager.add_to_definition(temp_json)\n",
    "    time.sleep(10)\n",
    "    print(\"done definition\")\n",
    "    new_fl = FeatureLayer(trg_flc.url + trg_fl_id, gis = target_gis)\n",
    "    src_fl = FeatureLayer(src_url, gis = source_gis)\n",
    "    src_fset = src_fl.query(\"1=1\")\n",
    "    src_fset_df = src_fset.sdf\n",
    "    batch_size = 100\n",
    "    batches = [group for _, group in src_fset_df.groupby(src_fset_df.index // batch_size)]\n",
    "    start_time = datetime.datetime.now()\n",
    "    print('Starting at {}'.format(str(start_time)))\n",
    "    for i, batch_df in enumerate(batches):\n",
    "\n",
    "        final_fs = FeatureSet.from_dataframe(batch_df)\n",
    "        att_str = {\"adds\":[],\"updates\":[],\"deletes\":[]}\n",
    "\n",
    "        for feat in final_fs.features:\n",
    "            id_num = feat.attributes['objectid']\n",
    "            global_id = feat.attributes['globalid']\n",
    "            #print(global_id)\n",
    "            att_list = src_fl.attachments.get_list(oid = id_num)\n",
    "            #att_list = src_fl.attachments.search(object_ids = str(id_num),return_url=True)\n",
    "            #print(att_list)\n",
    "            if len(att_list)>0:\n",
    "                for att in att_list:\n",
    "                    #print(att)\n",
    "                    #print(\"attid:\"+str(att['attachmentid']))\n",
    "                    if att['keywords']:\n",
    "                        #print(att['keywords'])\n",
    "                        url = src_url + \"/\" + str(id_num) + \"/attachments/\" + str(att['attachmentid'])\n",
    "                        token = source_gis._con.token\n",
    "                        photo_encode = get_photo_encode(url,token)['Attachment']\n",
    "                        #print(url)\n",
    "                        att_json = {\n",
    "                            \"parentGlobalId\": global_id,\n",
    "                            \"globalId\":att['globalid'],\n",
    "                            \"contentType\":att['contentType'],\n",
    "                            \"data\":photo_encode,\n",
    "                            \"name\":att['name'],\n",
    "                            \"keywords\":att['keywords'],\n",
    "                            \"attachmentid\": att['attachmentid'],\n",
    "                            \"att_name\":att['att_name']\n",
    "                        }\n",
    "                        att_str['adds'].append(att_json)\n",
    "                        \n",
    "        print(\"attachment number in this batch: \" + str(len(att_str['adds'])))\n",
    "\n",
    "        #print(final_fs)\n",
    "        result = new_fl.edit_features(adds = final_fs,use_global_ids=True, rollback_on_failure=True,attachments = att_str)\n",
    "    end_time = datetime.datetime.now()\n",
    "    print('finished at {}'.format(str(end_time)))\n",
    "    print('Duration: {}'.format(end_time - start_time))"
   ]
  },
  {
   "cell_type": "code",
   "execution_count": null,
   "metadata": {},
   "outputs": [],
   "source": []
  }
 ],
 "metadata": {
  "kernelspec": {
   "display_name": "ArcGISPro",
   "language": "Python",
   "name": "python3"
  },
  "language_info": {
   "file_extension": ".py",
   "name": "python",
   "version": "3"
  }
 },
 "nbformat": 4,
 "nbformat_minor": 2
}
